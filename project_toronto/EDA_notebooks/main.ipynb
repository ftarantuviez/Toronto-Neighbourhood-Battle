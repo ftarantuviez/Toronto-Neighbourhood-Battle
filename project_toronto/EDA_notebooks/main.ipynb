{
 "cells": [
  {
   "cell_type": "markdown",
   "metadata": {},
   "source": [
    "<center><h1><b>Battle of neighbourhoods</b></h1>\n",
    "<h2>Toronto edition</h2>\n",
    "<h4>By <a href=\"franciscot.dev\">Francisco Tarantuviez</a></h4></center>\n",
    " <hr />\n",
    "\n",
    "### Problem to solve\n",
    "    I am currently living in the West Side of Toronto, Canada in a neighbourhood called Dufferin, Dovercourt Village. I love where I live because all the amenities that the neighbourhood has (such as restaurants, gyms, coffee shops, etc). The problem start when I recive a spectacular job offer that I cannot reject, but the place of the job is far of Dufferin. So, I want to take a good decision, a data driven decision. Then, via Machine Learning techniques and Exploratory Data Analysis (EDA) I'll understand and compare the neighbourhoods in all Toronto having two principal parameters:\n",
    "\n",
    "       1. Distance between the neighbourhood and the job place\n",
    "   \n",
    "       2. Similarity between my actual neighbourhood and the future one\n",
    "\n",
    "### Dataset\n",
    "\n",
    "The dataset already passed the ETL process (Extract, Transform and Load). Currently is loaded in a database in IBM storage, but you can find it in this [url](https://github.com/ftarantuviez/data_science_capstone/blob/master/project_toronto/ETL_notebooks/datasets/toronto-venues.csv)\n",
    "\n",
    "Let's review the dataset to understand it a little more:\n",
    "\n",
    "- Number of rows: 2378\n",
    "- Number of columns: 11\n",
    "\n",
    "##### Columns:\n",
    "- ven_id (string): the venue id in Foursquare API\n",
    "- ven_name (string): name of the venue\n",
    "- ven_lat (float): latitude of the venue\n",
    "- ven_lng (float): longitude of the venue\n",
    "- ven_category_name (string): venue category name\n",
    "- ven_category_id (string): identifier value of the category in Foursquare API\n",
    "- ven_address (string): street and number of the venue\n",
    "- neighbourhood (string): name of the neighbourhood\n",
    "- neighbourhood_lat (float): neighbourhood latitude\n",
    "- neighbourhood_lng (float): neighbourhood longitude\n",
    "- borough (string): borough of the neighbourhood name"
   ]
  },
  {
   "cell_type": "code",
   "execution_count": 1,
   "metadata": {},
   "outputs": [],
   "source": [
    "# packages that will be used\n",
    "\n",
    "# basic data manipulation\n",
    "import pandas as pd\n",
    "import numpy as np\n",
    "\n",
    "# visualation packages\n",
    "import matplotlib.pyplot as plt\n",
    "import seaborn as sns\n",
    "import folium\n",
    "\n",
    "# database\n",
    "import ibm_db\n",
    "import ibm_db_dbi\n",
    "\n",
    "# data transformation and modeling\n",
    "from sklearn.preprocessing import OneHotEncoder\n",
    "from sklearn.cluster import KMeans, AgglomerativeClustering, DBSCAN"
   ]
  },
  {
   "cell_type": "code",
   "execution_count": 3,
   "metadata": {},
   "outputs": [],
   "source": [
    "# magic sql\n",
    "%load_ext sql"
   ]
  },
  {
   "cell_type": "code",
   "execution_count": 8,
   "metadata": {},
   "outputs": [
    {
     "name": "stdout",
     "output_type": "stream",
     "text": [
      "DB2/LINUXX8664\n"
     ]
    },
    {
     "data": {
      "text/plain": [
       "'Connected: jts01551@BLUDB'"
      ]
     },
     "execution_count": 8,
     "metadata": {},
     "output_type": "execute_result"
    }
   ],
   "source": [
    "# open connection with the database\n",
    "%sql ibm_db_sa://jts01551:67sk^vschz4h148z@dashdb-txn-sbox-yp-dal09-08.services.dal.bluemix.net:50000/BLUDB"
   ]
  },
  {
   "cell_type": "code",
   "execution_count": null,
   "metadata": {},
   "outputs": [],
   "source": []
  }
 ],
 "metadata": {
  "kernelspec": {
   "display_name": "Python 3",
   "language": "python",
   "name": "python3"
  },
  "language_info": {
   "codemirror_mode": {
    "name": "ipython",
    "version": 3
   },
   "file_extension": ".py",
   "mimetype": "text/x-python",
   "name": "python",
   "nbconvert_exporter": "python",
   "pygments_lexer": "ipython3",
   "version": "3.8.5"
  }
 },
 "nbformat": 4,
 "nbformat_minor": 4
}
